{
  "nbformat": 4,
  "nbformat_minor": 0,
  "metadata": {
    "colab": {
      "name": "DL-Assignment-1.ipynb",
      "provenance": [],
      "collapsed_sections": [],
      "include_colab_link": true
    },
    "kernelspec": {
      "name": "python3",
      "display_name": "Python 3"
    },
    "accelerator": "GPU"
  },
  "cells": [
    {
      "cell_type": "markdown",
      "metadata": {
        "id": "view-in-github",
        "colab_type": "text"
      },
      "source": [
        "<a href=\"https://colab.research.google.com/github/hueyning/DeepLearningTutorial/blob/master/DL_Assignment_1.ipynb\" target=\"_parent\"><img src=\"https://colab.research.google.com/assets/colab-badge.svg\" alt=\"Open In Colab\"/></a>"
      ]
    },
    {
      "cell_type": "markdown",
      "metadata": {
        "id": "rmEfqylTgk1h",
        "colab_type": "text"
      },
      "source": [
        "# Deep Learning Assignment 1: Neural Network Fundamentals\n",
        "\n",
        "\n",
        "\n"
      ]
    },
    {
      "cell_type": "markdown",
      "metadata": {
        "id": "4-ajeP7zzpkR",
        "colab_type": "text"
      },
      "source": [
        "In this assignment, we will implement a neural network from scratch either in Numpy or in PyTorch but without using any of PyTorch’s implementations for layers, optimizers, loss functions, callbacks etc - all significant logic relating to the neural network should be written by the student. We are only allowed to use PyTorch for Numpy-like GPU-accelerated tensor manipulation, dataset-related data structures, and optionally gradient calculations (autograd).\n",
        "\n",
        "### Requirements:\n",
        "\n",
        "Implement a fully-connected (feed-forward) neural network from scratch in your library of choice. The NN must include at least dense layers, activations, and sigmoid/softmax in case of classification. You must also write your own optimizer and loss function (for example, stochastic gradient descent and binary cross-entropy for binary classification). You may use PyTorch’s built-in gradient calculator (autograd) or you may write one yourself.\n",
        "\n",
        "Finally, include runtime and results on a public dataset (MNIST? CIFAR10?).\n",
        "\n",
        "Please document your code and write a brief summary which includes any interesting technical details and your results.\n",
        "\n",
        "### Extensions:\n",
        "\n",
        "Implement one or more of the following, and include a comparison of the model’s performance with/without each component:\n",
        "\n",
        "* Manually calculate the gradients of each layer, and perform back propagation manually.\n",
        "* More than 1 activation function - sigmoid, tanh, relu etc.\n",
        "* More than 1 optimizer - SGD, Momentum, RMSProp, Adam etc.\n",
        "* Regularization - L2/weight decay, dropout, possibly augmentations if image data etc.\n",
        "\n",
        "\n",
        "### Submission:\n",
        "\n",
        "Please put all your code, results, and discussion in a jupyter notebook, and submit a pdf of the notebook for ease of grading. You may also make a secondary submission of the notebook (*.ipynb) or the code (*.py), but this is optional and might not be looked at."
      ]
    },
    {
      "cell_type": "markdown",
      "metadata": {
        "id": "GmJQwIVonwkK",
        "colab_type": "text"
      },
      "source": [
        "# Assignment Layout\n",
        "\n",
        "The assignment will consist of two main parts:\n",
        "\n",
        "1. Conceptual breakdown of the fundamentals of neural network architecture and the training process. This will allow me to grasp the fundamentals needed to code a neural network from scratch.\n",
        "\n",
        "2. Coding of the neural network using Pytorch.\n",
        "\n",
        "\n",
        "\n",
        " "
      ]
    },
    {
      "cell_type": "markdown",
      "metadata": {
        "id": "JmHLpP2cePJv",
        "colab_type": "text"
      },
      "source": [
        "# Conceptual Breakdown\n",
        "\n",
        "The steps for training a neural network can be broken down as follows:"
      ]
    },
    {
      "cell_type": "markdown",
      "metadata": {
        "id": "asyemiIJzmlj",
        "colab_type": "text"
      },
      "source": [
        "## 1. Initialize the network parameters.\n",
        "\n",
        "### 1.1 Fixed Parameters\n",
        "\n",
        "The fixed parameters are the number of neurons in each layer, aka the layer size. These are usually defined by the user and determined as according to our dataset needs. \n",
        "\n",
        "#### 1.1.1 Input size and hidden layer size\n",
        "\n",
        "The number of neurons in the input layer and hidden layer(s) can be defined arbitrarily or according to common best practices. Increasing the number of neurons (and number of layers) can increase the model capacity, i.e. the space of representable functions, which allows the modelling of more complex relations, but also makes the model prone to overfitting (Kaparthy, 2019). It is a general rule of thumb that the number of learnable parameters should not exceed the number of data points. That being said, Kaparthy argues that neural networks that are overfitting can and should be adjusted using regularization methods vs reducing the neuron count (2019).\n",
        "\n",
        "Given the layer size(s) $s$, we can calculate the number of learnable parameters, $p$, from a fully-connected network with $N$ number of layers as follows:\n",
        "\n",
        "$p_{\\text{weights}} = \\sum_{i=0}^{N}{s_{i}\\cdot s_{i+1}}$\n",
        "\n",
        "$p_{\\text{bias}} = \\sum_{i=1}^{N}{s_i}$\n",
        "\n",
        "$p = p_{\\text{weights}} + p_{\\text{bias}}$\n",
        "\n",
        "In the equations above, $i=0$ denotes the input layer and $i=N$ denotes the output layer.\n",
        "\n",
        "#### 1.1.2 Output size\n",
        "\n",
        "In cases of binary classification or regression, the final output size should be one. In multilabel classification, the final output size should correspond to the number of classes.\n",
        "\n",
        "### 1.2 Learnable Parameters\n",
        "\n",
        "While fixed parameters are only initialized once when defining the network, learnable parameters are continuously updated throughout the training process to minimize training loss and adjust the model's predicted outputs to be closer to the actual output.\n",
        "\n",
        "The learnable parameters consist of the model weights and biases, and are usually randomly initialized.\n",
        "\n",
        "#### 1.2.1 Weights\n",
        "\n",
        "The weights determine the relationship between the neurons in a given layer to the neurons in the layer before and after it. The heavier the weight, the stronger the interneuron connection, and the stronger the implication that the neuron significantly affects our model's prediction ability. This is mostly relevant in regards to the input layer where the neurons may represent clear features of a given dataset. Neurons in the hidden layers are often less interpretable since they have undergone multiple transformations, though there have been relatively successful attempts at visualizing hidden layer features as shown in Olah, Mordvintsev, and Schubert (2017).\n",
        "\n",
        "#### 1.2.2 Bias\n",
        "\n",
        "The bias term allows us to adjust the displacement of the output functions of any given layer to achieve a better fit that reduces loss, i.e. the difference between predicted $\\hat{y}$ and actual $y$."
      ]
    },
    {
      "cell_type": "markdown",
      "metadata": {
        "id": "3Ipy6nnwze-3",
        "colab_type": "text"
      },
      "source": [
        "## 2. Perform a feed-forward pass to compute the predicted output.\n",
        "\n",
        "According to Karpathy (2019), \"[t]he forward pass of a fully-connected layer corresponds to one matrix multiplication followed by a bias offset and an activation function\". The forward pass allows us to use the parameters that we have been training to predict an output based on our input. The steps are as follows:\n",
        "\n",
        "For each layer in the network:\n",
        "\n",
        "### 2.1 Multiply the layer inputs by their corresponding weights and add the bias offset.\n",
        "\n",
        "Given a layer with weights $\\vec{w}$, inputs $\\vec{x}$, and bias term $b$, the output (before activation) can be calculated as follows:\n",
        "\n",
        "$o = \\vec{w} \\cdot \\vec{x} + b$\n",
        "\n",
        "\n",
        "### 2.2 Apply an activation function.\n",
        "\n",
        "Since the output is linear, we need to apply an activation function to model non-linearity within our layer outputs. Given an activation function $g(x)$, our output can then be written as:\n",
        "\n",
        "$o = g(\\vec{w} \\cdot \\vec{x} + b)$\n",
        "\n",
        "Example activation functions include the sigmoid, softmax, rectified linear units (ReLU), etc."
      ]
    },
    {
      "cell_type": "markdown",
      "metadata": {
        "id": "FyEBGbncGXGa",
        "colab_type": "text"
      },
      "source": [
        "## 3. Compute the loss.\n",
        "\n",
        "The loss is defined as the difference between the predicted output $\\hat{y}$ and the actual output $y$ for an input $\\vec{x}$. The loss is calculated using the loss function, which can take on different forms as called for by the given problem.\n",
        "\n",
        "\n",
        "For regression problems, we typically use the mean squared error (MSE) as a loss function. For classification problems, we typically use cross-entropy loss (also called log loss)."
      ]
    },
    {
      "cell_type": "markdown",
      "metadata": {
        "id": "hfl5EOrROvkn",
        "colab_type": "text"
      },
      "source": [
        "## 4. Update parameters using gradient descent and backpropagation.\n",
        "\n",
        "Given a MSE loss function $L(X) = \\frac{1}{n}\\sum_{i=1}^{n}{(\\hat{y_i} - y_i)^2}$, where $X$ denotes a set of input-output pairs $X=\\{(\\vec{x_1},y_1),...,(\\vec{x_n},y_n)\\}$, $\\hat{y}$ denotes the predicted output, and ${y}$ denotes the actual output, we see that when $\\hat{y} = y$, $L(X) = 0$. As such, a natural objective is to minimize the loss function to achieve more accurate output. This can be done by adjusting the parameters that will affect the output, as shown in section 2.2. \n",
        "\n",
        "### 4.1 Calculating loss function gradient w.r.t. the parameters using backpropagation.\n",
        "\n",
        "The backpropagation algorithm uses the chain rule to calculate the gradient of the loss function w.r.t. to the parameters, i.e. the weights and biases. Given the final output of our neural network, $y$, and error $E$, we can calculate the gradient of the error w.r.t. the output as $dE/dy$. We then find the gradient of error w.r.t input, $dE/dx = dE/dy * dy/dx$, where $dy/dx$ is the derivative of the activation function w.r.t. the output. After calculating $dE/dx$ for each layer, we can then use this in our calculation of the error gradient w.r.t. the weights of each layer, $dE/dw$. We then use this error gradient to update our weights through gradient descent.\n",
        "\n",
        "\n",
        "### 4.2 Minimizing loss and updating parameters using gradient descent.\n",
        "Since we are trying to minimize the loss, this is an optimization problem that can be solved using gradient descent. We typically use stochastic gradient descent (SGD) whereby a parameter update is performed for each training example $x_i$ and training label $y_i$ (Ruder, 2018). Each iteration of gradient descent would be carried out as follows:\n",
        "\n",
        "$\\theta_{t+1} = \\theta_t - \\alpha \\cdot \\nabla_\\theta L( \\theta; x^{(i)}; y^{(i)})$\n",
        "\n",
        "where $\\alpha$ represents the learning rate (usually user-defined and should follow industry best practices) and $\\nabla_\\theta L( \\theta; x^{(i)}; y^{(i)})$ represents the gradient of the loss function w.r.t the parameters.\n",
        "\n",
        "As seen from the update equation, each gradient descent step will update our parameters in the direction that decreases loss. If the loss term $(\\alpha \\cdot \\nabla_\\theta L( \\theta; x^{(i)}; y^{(i)})$ is positive, then the parameter values are decreased, i.e. we want to decrease the significance of this parameter since it is increasing loss. If the loss term is negative, then the parameter values are increased, i.e. we want to increase the significance of this parameter since it is decreasing loss. \n",
        "\n",
        "Through gradient descent, we iteratively update our parameters to achieve a local optima where loss is minimized.\n",
        "\n"
      ]
    },
    {
      "cell_type": "markdown",
      "metadata": {
        "id": "mHLLuY1YebdZ",
        "colab_type": "text"
      },
      "source": [
        "# Coding the Neural Network\n",
        "\n",
        "The following Pytorch functionalities were implemented:\n",
        "\n",
        "- torch.tensor() # to create tensors\n",
        "- torch.randn() # to create tensors with random input\n",
        "- torch.matmul() # to perform matrix multiplication\n",
        "- torch.t() # to transpose matrices\n",
        "- math operations: torch.exp(), torch.mean()\n",
        "\n",
        "The autograd functionality was not utilized, so backpropagation was calculated manually.\n"
      ]
    },
    {
      "cell_type": "code",
      "metadata": {
        "id": "5-FiFE3agnR1",
        "colab_type": "code",
        "colab": {}
      },
      "source": [
        "# import libraries\n",
        "import torch\n",
        "import numpy as np\n",
        "import matplotlib.pyplot as plt\n",
        "import seaborn as sns\n",
        "sns.set()"
      ],
      "execution_count": 0,
      "outputs": []
    },
    {
      "cell_type": "markdown",
      "metadata": {
        "id": "Q_DHg1EtR8Na",
        "colab_type": "text"
      },
      "source": [
        "## Neural Network Class\n",
        "\n",
        "The neural network class consists of a forward method to calculate the output, backward method to backpropagate and calculate the loss gradients w.r.t. the weights, optimize method to perform gradient descent and update the weights using the loss gradients, and finally a train method which performs the forward, backward, and optimize methods in order.\n",
        "\n",
        "The neural network class takes the following input parameters: \n",
        "\n",
        "* the layer architecture (number of layers, size of layers, etc.)\n",
        "* loss function\n",
        "* activation function\n",
        "* derivative of the activation function\n",
        "* learning rate ($\\alpha$)\n",
        "\n",
        "I have defined the loss functions and activation functions (and their derivatives) in separate cells.\n"
      ]
    },
    {
      "cell_type": "code",
      "metadata": {
        "id": "BSiH9H3t-tSW",
        "colab_type": "code",
        "colab": {}
      },
      "source": [
        "# define neural network class\n",
        "\n",
        "class NeuralNetwork:\n",
        "  \n",
        "  def __init__(self, layers, loss_func, active_func, active_func_prime, alpha = 0.01):\n",
        "    \n",
        "    '''\n",
        "    Basic neural network class that can be trained on a given set of data using the self.train method.\n",
        "    \n",
        "    Inputs:\n",
        "    \n",
        "      layers (ARR)\n",
        "      \n",
        "        - Defines the architecture of the neural network.\n",
        "        - The array should contain sub-arrays that represent the network layers, so that \n",
        "          number of sub-arrays == number of layers in network (including input and output layers).\n",
        "          Ex: [[...],[...],[...]] would represent a network with 3 layers.\n",
        "        - The sub-arrays should each contain 2 numbers, the first representing the number of input neurons\n",
        "          and the second representing the number of output neurons.\n",
        "          Ex: [5,3] would represent a layer with 5 input neurons and 3 output neurons.\n",
        "          The following layer must accordingly have 3 input neurons, e.g. [3, x]\n",
        "        \n",
        "      loss_func (FUNC)\n",
        "      \n",
        "        - Defines the loss function to be used in the neural network.\n",
        "        \n",
        "      active_func (FUNC)\n",
        "      \n",
        "        - Defines the activation function to be used in the neural network.\n",
        "        - Only one type of activation function can be chosen, and this activation function\n",
        "          will be applied to each layer in the network, except the output layer.\n",
        "      \n",
        "      active_func_prime (FUNC)\n",
        "      \n",
        "        - The derivative of the chosen activation function.  \n",
        "          \n",
        "      alpha (FLOAT)\n",
        "      \n",
        "        - Defines the learning rate to be used in the optimization method (SGD).\n",
        "        - Default: 0.01\n",
        "        \n",
        "    '''\n",
        "    \n",
        "    self.weight_dct = {} # empty dict to store layer weights\n",
        "    self.layer_output_dct = {} # empty dict to store layer outputs\n",
        "    self.delta_dct = {} # empty dict to store loss gradients\n",
        "    \n",
        "    for l in range(len(layers)):\n",
        "      # randomly initialize layer weights according to layer size\n",
        "      self.weight_dct[l] = torch.randn(layers[l,0], layers[l,1]) \n",
        "      \n",
        "    self.loss_func = loss_func # type of loss function\n",
        "    self.active_func = active_func # type of activation function\n",
        "    self.active_func_prime = active_func_prime # derivative of activation function\n",
        "    self.alpha = alpha # learning rate\n",
        "    \n",
        "    \n",
        "  def forward(self, layer_input):\n",
        "    \n",
        "    '''\n",
        "    *** Forward-pass algorithm ***\n",
        "    Multiplies the layer inputs by layer weights and applies the user-defined activation function\n",
        "    to every layer except the final output layer.\n",
        "    \n",
        "    Inputs:\n",
        "      \n",
        "      layer_input (ARR)\n",
        "        The layer inputs.\n",
        "        \n",
        "    Outputs:\n",
        "    \n",
        "      layer_output (ARR)\n",
        "        The output of the final layer.\n",
        "        \n",
        "    '''\n",
        "    \n",
        "    layer_output = 0 # initialize output value as 0\n",
        "    \n",
        "    for i in range(len(self.weight_dct)): # loop through each layer in the network\n",
        "\n",
        "      layer_output = torch.matmul(layer_input, self.weight_dct[i]) # multiply the layer input by its weights\n",
        "      \n",
        "      if i != len(self.weight_dct) - 1: # apply activation function to all layers but the last\n",
        "        layer_output = self.active_func(layer_output) # activation function\n",
        "        \n",
        "      self.layer_output_dct[i] = layer_output # add layer output to the layer output dict\n",
        "      layer_input = layer_output # pass the output as the input to the next layer\n",
        "\n",
        "    return layer_output # return final output of last layer in the network\n",
        "  \n",
        "  \n",
        "  def backward(self, output, y_true):\n",
        "    \n",
        "    '''\n",
        "    *** Backpropagation algorithm ***\n",
        "    Loops through the network in reverse to calculate and sstore the \n",
        "    error derivative w.r.t. the total input of a node, dE/dx.\n",
        "    The dE/dx's are stored in delta_dct.\n",
        "    \n",
        "    Inputs:\n",
        "      \n",
        "      output (ARR)\n",
        "        The predicted y values, i.e. final layer outputs.\n",
        "        \n",
        "      y_true (ARR)\n",
        "        The true y values.\n",
        "\n",
        "    '''\n",
        "    \n",
        "    err = self.loss_func(output, y_true) # output error, dE/dy\n",
        "    delta = err * self.active_func_prime(output) # derivative of error w.r.t input, dE/dx = dE/dy * dy/dx, \n",
        "                                                # where dy/dx is the derivative of the activation function w.r.t. the output.\n",
        "    \n",
        "    for i in reversed(range(1, len(self.weight_dct))): # loop through the layers in reverse to backprop\n",
        "      \n",
        "      err = torch.matmul(delta, torch.t(self.weight_dct[i])) # dE/dy for the layer\n",
        "      delta = err * self.active_func_prime(self.layer_output_dct[i]) # dE/dx for the layer\n",
        "    \n",
        "      self.delta_dct[i] = delta # save the deltas for calculating the loss gradient w.r.t. params, dE/dw\n",
        "        \n",
        "  \n",
        "  def optimize(self, layer_input):\n",
        "    \n",
        "    '''\n",
        "    *** Optimization step: Gradient Descent ***\n",
        "    Loops through the network and calculates the the error derivative w.r.t. the weights coming into\n",
        "    the nodes of each layer, dE/dw. Ths loss gradient is then used to update the weights by \n",
        "    multiplying it with a learning_rate factor.\n",
        "    \n",
        "    Inputs:\n",
        "      \n",
        "      layer_input (ARR)\n",
        "        The initial input of the first layer, aka the \"X\" data.\n",
        "        \n",
        "    '''\n",
        "    \n",
        "    # loop through all layers except the output layer which doesn't have params to optimize\n",
        "    for i in range(len(self.weight_dct)-1): \n",
        "      \n",
        "      loss_gradient = torch.matmul(torch.t(layer_input), self.delta_dct[i+1]) # calculate dE/dw\n",
        "      self.weight_dct[i] -= self.alpha * loss_gradient # update params using α * dE/dw\n",
        "      \n",
        "      # the input for the next layer, i + 1, will be the output from the layer before it, i\n",
        "      layer_input = self.layer_output_dct[i] \n",
        "      \n",
        "      \n",
        "  def train(self, layer_input, y_true):\n",
        "    \n",
        "    '''\n",
        "    *** Train the Network ***\n",
        "    Trains the neural network through one iteration of:\n",
        "    1) Calculating the predicted y's using a forward pass on the x data,\n",
        "    2) Using backprop to find the loss gradients,\n",
        "    3) Optimizing weights using the loss gradients.\n",
        "    \n",
        "    Inputs:\n",
        "      \n",
        "      layer_input (MAT)\n",
        "        The initial input of the first layer, aka the \"X\" data.\n",
        "        \n",
        "      y_true (MAT)\n",
        "        The true y values.\n",
        "        \n",
        "    '''\n",
        "    \n",
        "    # forward pass\n",
        "    y_pred = self.forward(layer_input)\n",
        "    # backward pass\n",
        "    self.backward(y_pred, y_true)\n",
        "    # optimize\n",
        "    self.optimize(layer_input)\n",
        "    "
      ],
      "execution_count": 0,
      "outputs": []
    },
    {
      "cell_type": "markdown",
      "metadata": {
        "id": "AG-xbKxIv35p",
        "colab_type": "text"
      },
      "source": [
        "## Activation Functions and their Derivatives\n",
        "\n",
        "The activation functions defined are the sigmoid and rectified linear units (ReLU) functions (and their derivatives)."
      ]
    },
    {
      "cell_type": "code",
      "metadata": {
        "id": "07OwQ8ZrvL-t",
        "colab_type": "code",
        "colab": {}
      },
      "source": [
        "def sigmoid(s): # for binary classification\n",
        "  return 1/(1 + torch.exp(-s)) \n",
        "  \n",
        "def sigmoid_prime(s):\n",
        "  return s * (1-s)\n",
        "  \n",
        "def relu(s):\n",
        "  return s * (s > 0).float()\n",
        "\n",
        "def relu_prime(s):\n",
        "  return 1. * (s > 0).float()\n"
      ],
      "execution_count": 0,
      "outputs": []
    },
    {
      "cell_type": "markdown",
      "metadata": {
        "id": "IR-6p-FCxlX0",
        "colab_type": "text"
      },
      "source": [
        "## Loss Functions\n",
        "\n",
        "The loss functions defined are the absolute error loss and square error loss. Due to time constraints, I have chosen to train and my neural network on a regression problem, and so did not include a classification-appropriate loss function, e.g. cross-entropy. "
      ]
    },
    {
      "cell_type": "code",
      "metadata": {
        "id": "DzFZ2qsJxl47",
        "colab_type": "code",
        "colab": {}
      },
      "source": [
        "def absolute_error(y_pred, y_true):\n",
        "  return abs(y_pred - y_true)\n",
        "\n",
        "\n",
        "def square_error(y_pred, y_true):\n",
        "  return (y_pred - y_true)**2\n"
      ],
      "execution_count": 0,
      "outputs": []
    },
    {
      "cell_type": "code",
      "metadata": {
        "id": "9em8VfXM0jdo",
        "colab_type": "code",
        "colab": {}
      },
      "source": [
        "def run_nn(NN, X_train, y_train, X_test, y_test, epochs = 1000, disp = False):\n",
        "  \n",
        "  '''\n",
        "  Basic training function to train the neural network over a set amount of epochs and return the train and test loss.\n",
        "  \n",
        "      \n",
        "  Inputs:\n",
        "\n",
        "    NN (OBJ)\n",
        "      The initialized neural network object.\n",
        "      \n",
        "    X_train (ARR)\n",
        "      The training input.\n",
        "      \n",
        "    y_train (ARR)\n",
        "      The true training output.\n",
        "      \n",
        "    X_test (ARR)\n",
        "      The testing input.\n",
        "      \n",
        "    y_test (ARR)\n",
        "      The true testing output.\n",
        "      \n",
        "    epochs (INT)\n",
        "      Number of epochs to train the network.\n",
        "      Default: 1000\n",
        "      \n",
        "    disp (BOOL)\n",
        "      If true, prints the epoch, train loss, and test loss per 100 epochs.\n",
        "      If false, does not print anything.\n",
        "      Default: False\n",
        "    \n",
        "    \n",
        "  Outputs:\n",
        "\n",
        "    running_train_loss (ARR)\n",
        "      The training loss at each epoch\n",
        "    \n",
        "    running_test_loss (ARR)\n",
        "      The test loss at each epoch\n",
        "\n",
        "  '''\n",
        "  \n",
        "  # keep track of train and test loss\n",
        "  running_train_loss = []\n",
        "  running_test_loss = []\n",
        "\n",
        "  for i in range(epochs):\n",
        "\n",
        "    # train network\n",
        "    NN.train(X_train, y_train)\n",
        "    train_loss = torch.mean(absolute_error(NN.forward(X_train), y_train))\n",
        "    running_train_loss.append(train_loss)\n",
        "\n",
        "    # test network\n",
        "    test_loss = torch.mean(absolute_error(NN.forward(X_test), y_test))\n",
        "    running_test_loss.append(test_loss)\n",
        "\n",
        "    if i % 100 == 0 and disp == True:\n",
        "      print(f\"Epoch {i}\")\n",
        "      print (\"Train Loss: \" + str(train_loss)) \n",
        "      print (\"Test Loss: \" + str(test_loss)) \n",
        "      \n",
        "  return running_train_loss, running_test_loss\n",
        "  "
      ],
      "execution_count": 0,
      "outputs": []
    },
    {
      "cell_type": "markdown",
      "metadata": {
        "id": "4fYKrQvqR57M",
        "colab_type": "text"
      },
      "source": [
        "## Neural Network Test: Fake Data\n",
        "\n",
        "A fake dataset is generated to train and test the neural network class. "
      ]
    },
    {
      "cell_type": "markdown",
      "metadata": {
        "id": "J34Bo77uSWqy",
        "colab_type": "text"
      },
      "source": [
        "### Create the Fake Data"
      ]
    },
    {
      "cell_type": "code",
      "metadata": {
        "id": "UcQPPkdn6Xki",
        "colab_type": "code",
        "outputId": "27881b5a-5fde-4e3c-d274-14778d60f52a",
        "colab": {
          "base_uri": "https://localhost:8080/",
          "height": 34
        }
      },
      "source": [
        "np.random.seed(2)\n",
        "\n",
        "def f(x):\n",
        "  return torch.mean(x, dim=1)**2 + torch.mean(x, dim=1) + np.random.normal(0, 0.05)\n",
        "\n",
        "# train set\n",
        "X_train = torch.randn(500, 5) \n",
        "y_train = f(X_train).reshape(-1, 1)\n",
        "\n",
        "# test set\n",
        "X_test = torch.randn(100, 5) \n",
        "y_test = f(X_test).reshape(-1, 1)\n",
        "\n",
        "print(X_train.shape, X_test.shape, y_train.shape, y_test.shape)"
      ],
      "execution_count": 269,
      "outputs": [
        {
          "output_type": "stream",
          "text": [
            "torch.Size([500, 5]) torch.Size([100, 5]) torch.Size([500, 1]) torch.Size([100, 1])\n"
          ],
          "name": "stdout"
        }
      ]
    },
    {
      "cell_type": "markdown",
      "metadata": {
        "id": "JP1ptivlSYcG",
        "colab_type": "text"
      },
      "source": [
        "### Run the Neural Network"
      ]
    },
    {
      "cell_type": "code",
      "metadata": {
        "id": "WJZt_csB0fcm",
        "colab_type": "code",
        "colab": {}
      },
      "source": [
        "# define layer sizes\n",
        "input_s = X_train.size()[1]\n",
        "hidden_s = 10\n",
        "output_s = 1\n",
        "\n",
        "# initialize networks\n",
        "MAE_NN = NeuralNetwork(layers = torch.tensor([[input_s, hidden_s],[hidden_s, output_s]]),\n",
        "                   loss_func = absolute_error,\n",
        "                   active_func = relu,\n",
        "                   active_func_prime = relu_prime,\n",
        "                   alpha = 0.001)\n",
        "\n",
        "MSE_NN = NeuralNetwork(layers = torch.tensor([[input_s, hidden_s],[hidden_s, output_s]]),\n",
        "                   loss_func = square_error,\n",
        "                   active_func = relu,\n",
        "                   active_func_prime = relu_prime,\n",
        "                   alpha = 0.001)\n",
        "\n",
        "\n",
        "MAE_train_loss, MAE_test_loss = run_nn(MAE_NN, X_train, y_train, X_test, y_test, epochs = 1000)\n",
        "MSE_train_loss, MSE_test_loss = run_nn(MSE_NN, X_train, y_train, X_test, y_test, epochs = 1000)"
      ],
      "execution_count": 0,
      "outputs": []
    },
    {
      "cell_type": "code",
      "metadata": {
        "id": "F6UMDZm7lqBo",
        "colab_type": "code",
        "outputId": "ac9d0551-3ee8-4299-cfc9-650d7670f315",
        "colab": {
          "base_uri": "https://localhost:8080/",
          "height": 338
        }
      },
      "source": [
        "plt.figure(figsize=(16, 4))\n",
        "\n",
        "epochs = 1000\n",
        "plt.subplot(1,2,1)\n",
        "plt.title('Neural Network with MAE Loss Function')\n",
        "plt.plot(np.linspace(0,epochs,epochs), MAE_train_loss, label='train_loss')\n",
        "plt.plot(np.linspace(0,epochs,epochs), MAE_test_loss, label='test_loss')\n",
        "plt.xlabel('Epochs')\n",
        "plt.ylabel('Loss')\n",
        "plt.legend()\n",
        "\n",
        "plt.subplot(1,2,2)\n",
        "plt.title('Neural Network with MSE Loss Function')\n",
        "plt.plot(np.linspace(0,epochs,epochs), MSE_train_loss, label='train_loss')\n",
        "plt.plot(np.linspace(0,epochs,epochs), MSE_test_loss, label='test_loss')\n",
        "plt.xlabel('Epochs')\n",
        "plt.ylabel('Loss')\n",
        "plt.legend()"
      ],
      "execution_count": 276,
      "outputs": [
        {
          "output_type": "execute_result",
          "data": {
            "text/plain": [
              "<matplotlib.legend.Legend at 0x7fedc389d5c0>"
            ]
          },
          "metadata": {
            "tags": []
          },
          "execution_count": 276
        },
        {
          "output_type": "display_data",
          "data": {
            "image/png": "[encoded data removed]",
            "text/plain": [
              "<Figure size 1152x288 with 2 Axes>"
            ]
          },
          "metadata": {
            "tags": []
          }
        }
      ]
    },
    {
      "cell_type": "markdown",
      "metadata": {
        "id": "YLS4Yj_Svx6V",
        "colab_type": "text"
      },
      "source": [
        "The results show that the neural network is decreasing loss at a higher rate when trained using the MAE loss function vs the MSE loss function. The \"jitter\" in the loss lines suggest that the network is quite unstable, i.e. it is unable to smoothly converge to the local optima and is instead taking steps towards and away from it repeatedly."
      ]
    },
    {
      "cell_type": "markdown",
      "metadata": {
        "id": "KtXc2a5PNeL_",
        "colab_type": "text"
      },
      "source": [
        "## Neural Network Test: Public Dataset\n",
        "\n",
        "In this section, I train and test my neural network on a public dataset, specifically the Boston Housing Prices dataset (Scikit-learn, 2019) which takes in the following inputs:\n",
        "\n",
        "* CRIM per capita crime rate by town\n",
        "* ZN proportion of residential land zoned for lots over 25,000 sq.ft.\n",
        "* INDUS proportion of non-retail business acres per town\n",
        "* CHAS Charles River dummy variable (= 1 if tract bounds river; 0 otherwise)\n",
        "* NOX nitric oxides concentration (parts per 10 million)\n",
        "* RM average number of rooms per dwelling\n",
        "* AGE proportion of owner-occupied units built prior to 1940\n",
        "* DIS weighted distances to five Boston employment centres\n",
        "* RAD index of accessibility to radial highways\n",
        "* TAX full-value property-tax rate per \\$10,000\n",
        "* PTRATIO pupil-teacher ratio by town\n",
        "* B 1000(Bk - 0.63)^2 where Bk is the proportion of blacks by town\n",
        "* LSTAT % lower status of the population\n",
        "\n",
        "To return the following output:\n",
        "\n",
        "* MEDV Median value of owner-occupied homes in \\$1000’s"
      ]
    },
    {
      "cell_type": "markdown",
      "metadata": {
        "id": "PayXYaNvSb9F",
        "colab_type": "text"
      },
      "source": [
        "### Import Boston Housing Prices Dataset"
      ]
    },
    {
      "cell_type": "code",
      "metadata": {
        "id": "Xz6gos7kNdv-",
        "colab_type": "code",
        "outputId": "cbcbbd36-97e0-47d1-c2a5-fd023915f0b3",
        "colab": {
          "base_uri": "https://localhost:8080/",
          "height": 314
        }
      },
      "source": [
        "# load data\n",
        "from sklearn.datasets import load_boston\n",
        "import pandas as pd\n",
        "\n",
        "boston = load_boston()\n",
        "\n",
        "boston_data_df = pd.DataFrame(boston.data, columns=boston.feature_names)\n",
        "print(boston.data.shape)\n",
        "boston_data_df.describe().round()"
      ],
      "execution_count": 160,
      "outputs": [
        {
          "output_type": "stream",
          "text": [
            "(506, 13)\n"
          ],
          "name": "stdout"
        },
        {
          "output_type": "execute_result",
          "data": {
            "text/html": [
              "<div>\n",
              "<style scoped>\n",
              "    .dataframe tbody tr th:only-of-type {\n",
              "        vertical-align: middle;\n",
              "    }\n",
              "\n",
              "    .dataframe tbody tr th {\n",
              "        vertical-align: top;\n",
              "    }\n",
              "\n",
              "    .dataframe thead th {\n",
              "        text-align: right;\n",
              "    }\n",
              "</style>\n",
              "<table border=\"1\" class=\"dataframe\">\n",
              "  <thead>\n",
              "    <tr style=\"text-align: right;\">\n",
              "      <th></th>\n",
              "      <th>CRIM</th>\n",
              "      <th>ZN</th>\n",
              "      <th>INDUS</th>\n",
              "      <th>CHAS</th>\n",
              "      <th>NOX</th>\n",
              "      <th>RM</th>\n",
              "      <th>AGE</th>\n",
              "      <th>DIS</th>\n",
              "      <th>RAD</th>\n",
              "      <th>TAX</th>\n",
              "      <th>PTRATIO</th>\n",
              "      <th>B</th>\n",
              "      <th>LSTAT</th>\n",
              "    </tr>\n",
              "  </thead>\n",
              "  <tbody>\n",
              "    <tr>\n",
              "      <th>count</th>\n",
              "      <td>506.0</td>\n",
              "      <td>506.0</td>\n",
              "      <td>506.0</td>\n",
              "      <td>506.0</td>\n",
              "      <td>506.0</td>\n",
              "      <td>506.0</td>\n",
              "      <td>506.0</td>\n",
              "      <td>506.0</td>\n",
              "      <td>506.0</td>\n",
              "      <td>506.0</td>\n",
              "      <td>506.0</td>\n",
              "      <td>506.0</td>\n",
              "      <td>506.0</td>\n",
              "    </tr>\n",
              "    <tr>\n",
              "      <th>mean</th>\n",
              "      <td>4.0</td>\n",
              "      <td>11.0</td>\n",
              "      <td>11.0</td>\n",
              "      <td>0.0</td>\n",
              "      <td>1.0</td>\n",
              "      <td>6.0</td>\n",
              "      <td>69.0</td>\n",
              "      <td>4.0</td>\n",
              "      <td>10.0</td>\n",
              "      <td>408.0</td>\n",
              "      <td>18.0</td>\n",
              "      <td>357.0</td>\n",
              "      <td>13.0</td>\n",
              "    </tr>\n",
              "    <tr>\n",
              "      <th>std</th>\n",
              "      <td>9.0</td>\n",
              "      <td>23.0</td>\n",
              "      <td>7.0</td>\n",
              "      <td>0.0</td>\n",
              "      <td>0.0</td>\n",
              "      <td>1.0</td>\n",
              "      <td>28.0</td>\n",
              "      <td>2.0</td>\n",
              "      <td>9.0</td>\n",
              "      <td>169.0</td>\n",
              "      <td>2.0</td>\n",
              "      <td>91.0</td>\n",
              "      <td>7.0</td>\n",
              "    </tr>\n",
              "    <tr>\n",
              "      <th>min</th>\n",
              "      <td>0.0</td>\n",
              "      <td>0.0</td>\n",
              "      <td>0.0</td>\n",
              "      <td>0.0</td>\n",
              "      <td>0.0</td>\n",
              "      <td>4.0</td>\n",
              "      <td>3.0</td>\n",
              "      <td>1.0</td>\n",
              "      <td>1.0</td>\n",
              "      <td>187.0</td>\n",
              "      <td>13.0</td>\n",
              "      <td>0.0</td>\n",
              "      <td>2.0</td>\n",
              "    </tr>\n",
              "    <tr>\n",
              "      <th>25%</th>\n",
              "      <td>0.0</td>\n",
              "      <td>0.0</td>\n",
              "      <td>5.0</td>\n",
              "      <td>0.0</td>\n",
              "      <td>0.0</td>\n",
              "      <td>6.0</td>\n",
              "      <td>45.0</td>\n",
              "      <td>2.0</td>\n",
              "      <td>4.0</td>\n",
              "      <td>279.0</td>\n",
              "      <td>17.0</td>\n",
              "      <td>375.0</td>\n",
              "      <td>7.0</td>\n",
              "    </tr>\n",
              "    <tr>\n",
              "      <th>50%</th>\n",
              "      <td>0.0</td>\n",
              "      <td>0.0</td>\n",
              "      <td>10.0</td>\n",
              "      <td>0.0</td>\n",
              "      <td>1.0</td>\n",
              "      <td>6.0</td>\n",
              "      <td>78.0</td>\n",
              "      <td>3.0</td>\n",
              "      <td>5.0</td>\n",
              "      <td>330.0</td>\n",
              "      <td>19.0</td>\n",
              "      <td>391.0</td>\n",
              "      <td>11.0</td>\n",
              "    </tr>\n",
              "    <tr>\n",
              "      <th>75%</th>\n",
              "      <td>4.0</td>\n",
              "      <td>12.0</td>\n",
              "      <td>18.0</td>\n",
              "      <td>0.0</td>\n",
              "      <td>1.0</td>\n",
              "      <td>7.0</td>\n",
              "      <td>94.0</td>\n",
              "      <td>5.0</td>\n",
              "      <td>24.0</td>\n",
              "      <td>666.0</td>\n",
              "      <td>20.0</td>\n",
              "      <td>396.0</td>\n",
              "      <td>17.0</td>\n",
              "    </tr>\n",
              "    <tr>\n",
              "      <th>max</th>\n",
              "      <td>89.0</td>\n",
              "      <td>100.0</td>\n",
              "      <td>28.0</td>\n",
              "      <td>1.0</td>\n",
              "      <td>1.0</td>\n",
              "      <td>9.0</td>\n",
              "      <td>100.0</td>\n",
              "      <td>12.0</td>\n",
              "      <td>24.0</td>\n",
              "      <td>711.0</td>\n",
              "      <td>22.0</td>\n",
              "      <td>397.0</td>\n",
              "      <td>38.0</td>\n",
              "    </tr>\n",
              "  </tbody>\n",
              "</table>\n",
              "</div>"
            ],
            "text/plain": [
              "        CRIM     ZN  INDUS   CHAS    NOX  ...    RAD    TAX  PTRATIO      B  LSTAT\n",
              "count  506.0  506.0  506.0  506.0  506.0  ...  506.0  506.0    506.0  506.0  506.0\n",
              "mean     4.0   11.0   11.0    0.0    1.0  ...   10.0  408.0     18.0  357.0   13.0\n",
              "std      9.0   23.0    7.0    0.0    0.0  ...    9.0  169.0      2.0   91.0    7.0\n",
              "min      0.0    0.0    0.0    0.0    0.0  ...    1.0  187.0     13.0    0.0    2.0\n",
              "25%      0.0    0.0    5.0    0.0    0.0  ...    4.0  279.0     17.0  375.0    7.0\n",
              "50%      0.0    0.0   10.0    0.0    1.0  ...    5.0  330.0     19.0  391.0   11.0\n",
              "75%      4.0   12.0   18.0    0.0    1.0  ...   24.0  666.0     20.0  396.0   17.0\n",
              "max     89.0  100.0   28.0    1.0    1.0  ...   24.0  711.0     22.0  397.0   38.0\n",
              "\n",
              "[8 rows x 13 columns]"
            ]
          },
          "metadata": {
            "tags": []
          },
          "execution_count": 160
        }
      ]
    },
    {
      "cell_type": "code",
      "metadata": {
        "id": "2U8x5HSttIFk",
        "colab_type": "code",
        "outputId": "8939b9a9-5c59-44e6-81a5-8462027946fe",
        "colab": {
          "base_uri": "https://localhost:8080/",
          "height": 314
        }
      },
      "source": [
        "boston_target_df = pd.DataFrame(boston.target, columns=['MEDIAN VALUE'])\n",
        "print(boston.target.shape)\n",
        "boston_target_df.describe().round()"
      ],
      "execution_count": 161,
      "outputs": [
        {
          "output_type": "stream",
          "text": [
            "(506,)\n"
          ],
          "name": "stdout"
        },
        {
          "output_type": "execute_result",
          "data": {
            "text/html": [
              "<div>\n",
              "<style scoped>\n",
              "    .dataframe tbody tr th:only-of-type {\n",
              "        vertical-align: middle;\n",
              "    }\n",
              "\n",
              "    .dataframe tbody tr th {\n",
              "        vertical-align: top;\n",
              "    }\n",
              "\n",
              "    .dataframe thead th {\n",
              "        text-align: right;\n",
              "    }\n",
              "</style>\n",
              "<table border=\"1\" class=\"dataframe\">\n",
              "  <thead>\n",
              "    <tr style=\"text-align: right;\">\n",
              "      <th></th>\n",
              "      <th>MEDIAN VALUE</th>\n",
              "    </tr>\n",
              "  </thead>\n",
              "  <tbody>\n",
              "    <tr>\n",
              "      <th>count</th>\n",
              "      <td>506.0</td>\n",
              "    </tr>\n",
              "    <tr>\n",
              "      <th>mean</th>\n",
              "      <td>23.0</td>\n",
              "    </tr>\n",
              "    <tr>\n",
              "      <th>std</th>\n",
              "      <td>9.0</td>\n",
              "    </tr>\n",
              "    <tr>\n",
              "      <th>min</th>\n",
              "      <td>5.0</td>\n",
              "    </tr>\n",
              "    <tr>\n",
              "      <th>25%</th>\n",
              "      <td>17.0</td>\n",
              "    </tr>\n",
              "    <tr>\n",
              "      <th>50%</th>\n",
              "      <td>21.0</td>\n",
              "    </tr>\n",
              "    <tr>\n",
              "      <th>75%</th>\n",
              "      <td>25.0</td>\n",
              "    </tr>\n",
              "    <tr>\n",
              "      <th>max</th>\n",
              "      <td>50.0</td>\n",
              "    </tr>\n",
              "  </tbody>\n",
              "</table>\n",
              "</div>"
            ],
            "text/plain": [
              "       MEDIAN VALUE\n",
              "count         506.0\n",
              "mean           23.0\n",
              "std             9.0\n",
              "min             5.0\n",
              "25%            17.0\n",
              "50%            21.0\n",
              "75%            25.0\n",
              "max            50.0"
            ]
          },
          "metadata": {
            "tags": []
          },
          "execution_count": 161
        }
      ]
    },
    {
      "cell_type": "markdown",
      "metadata": {
        "id": "T_Xc62ZXSkE6",
        "colab_type": "text"
      },
      "source": [
        "### Transform and Preprocess Data"
      ]
    },
    {
      "cell_type": "code",
      "metadata": {
        "id": "1c2wvjggPkCj",
        "colab_type": "code",
        "outputId": "df582f4d-0c3c-4b77-b711-d778b55fb2e7",
        "colab": {
          "base_uri": "https://localhost:8080/",
          "height": 34
        }
      },
      "source": [
        "# scale data\n",
        "from sklearn.preprocessing import StandardScaler\n",
        "scaler = StandardScaler()\n",
        "X = scaler.fit_transform(boston.data)\n",
        "y = scaler.fit_transform(boston.target.reshape(-1, 1))\n",
        "\n",
        "# split data into train and test\n",
        "from sklearn.model_selection import train_test_split\n",
        "X_train, X_test, y_train, y_test = train_test_split(X, y, test_size=0.4, random_state=42)\n",
        "\n",
        "print(X_train.shape, X_test.shape, y_train.shape, y_test.shape)"
      ],
      "execution_count": 277,
      "outputs": [
        {
          "output_type": "stream",
          "text": [
            "(303, 13) (203, 13) (303, 1) (203, 1)\n"
          ],
          "name": "stdout"
        }
      ]
    },
    {
      "cell_type": "code",
      "metadata": {
        "id": "53vfjo8gObIR",
        "colab_type": "code",
        "outputId": "cc50f1ba-50f9-466a-c6cf-f62aa1865ac5",
        "colab": {
          "base_uri": "https://localhost:8080/",
          "height": 88
        }
      },
      "source": [
        "# transform data into tensor with dtype = Float\n",
        "def transform_to_tensor(data):\n",
        "  return torch.tensor(data, dtype=torch.float)\n",
        "\n",
        "X_train = transform_to_tensor(X_train)\n",
        "X_test = transform_to_tensor(X_test)\n",
        "y_train = transform_to_tensor(y_train)\n",
        "y_test = transform_to_tensor(y_test)\n",
        "\n",
        "print(X_train.shape, X_test.shape, y_train.shape, y_test.shape)"
      ],
      "execution_count": 279,
      "outputs": [
        {
          "output_type": "stream",
          "text": [
            "torch.Size([303, 13]) torch.Size([203, 13]) torch.Size([303, 1]) torch.Size([203, 1])\n"
          ],
          "name": "stdout"
        },
        {
          "output_type": "stream",
          "text": [
            "/usr/local/lib/python3.6/dist-packages/ipykernel_launcher.py:2: UserWarning: To copy construct from a tensor, it is recommended to use sourceTensor.clone().detach() or sourceTensor.clone().detach().requires_grad_(True), rather than torch.tensor(sourceTensor).\n",
            "  \n"
          ],
          "name": "stderr"
        }
      ]
    },
    {
      "cell_type": "markdown",
      "metadata": {
        "id": "tMzIBuRPSrxW",
        "colab_type": "text"
      },
      "source": [
        "### Run the Neural Network"
      ]
    },
    {
      "cell_type": "code",
      "metadata": {
        "id": "xldbKVAQOIwb",
        "colab_type": "code",
        "colab": {}
      },
      "source": [
        "# define layer sizes\n",
        "input_s = X_train.shape[1]\n",
        "hidden_s = 30\n",
        "output_s = 1\n",
        "\n",
        "# initialize networks\n",
        "MAE_boston_NN = NeuralNetwork(layers = torch.tensor([[input_s, hidden_s],[hidden_s, output_s]]),\n",
        "                   loss_func = absolute_error,\n",
        "                   active_func = sigmoid,\n",
        "                   active_func_prime = sigmoid_prime,\n",
        "                   alpha = 0.001)\n",
        "\n",
        "MSE_boston_NN = NeuralNetwork(layers = torch.tensor([[input_s, hidden_s],[hidden_s, output_s]]),\n",
        "                   loss_func = square_error,\n",
        "                   active_func = sigmoid,\n",
        "                   active_func_prime = sigmoid_prime,\n",
        "                   alpha = 0.001)\n",
        "\n",
        "\n",
        "MAE_boston_train_loss, MAE_boston_test_loss = run_nn(MAE_boston_NN, X_train, y_train, X_test, y_test, epochs = 500)\n",
        "MSE_boston_train_loss, MSE_boston_test_loss = run_nn(MSE_boston_NN, X_train, y_train, X_test, y_test, epochs = 500)"
      ],
      "execution_count": 0,
      "outputs": []
    },
    {
      "cell_type": "code",
      "metadata": {
        "id": "4sLDtIttmMBw",
        "colab_type": "code",
        "outputId": "88736a58-3cc3-4233-f2b9-4614bfcd8430",
        "colab": {
          "base_uri": "https://localhost:8080/",
          "height": 338
        }
      },
      "source": [
        "plt.figure(figsize=(16, 4))\n",
        "\n",
        "epochs = 500\n",
        "plt.subplot(1,2,1)\n",
        "plt.title('Neural Network with MAE Loss Function')\n",
        "plt.plot(np.linspace(0,epochs,epochs), MAE_boston_train_loss, label='train_loss')\n",
        "plt.plot(np.linspace(0,epochs,epochs), MAE_boston_test_loss, label='test_loss')\n",
        "plt.xlabel('Epochs')\n",
        "plt.ylabel('Loss')\n",
        "plt.legend()\n",
        "\n",
        "plt.subplot(1,2,2)\n",
        "plt.title('Neural Network with MSE Loss Function')\n",
        "plt.plot(np.linspace(0,epochs,epochs), MSE_boston_train_loss, label='train_loss')\n",
        "plt.plot(np.linspace(0,epochs,epochs), MSE_boston_test_loss, label='test_loss')\n",
        "plt.xlabel('Epochs')\n",
        "plt.ylabel('Loss')\n",
        "plt.legend()"
      ],
      "execution_count": 346,
      "outputs": [
        {
          "output_type": "execute_result",
          "data": {
            "text/plain": [
              "<matplotlib.legend.Legend at 0x7fedc1e527f0>"
            ]
          },
          "metadata": {
            "tags": []
          },
          "execution_count": 346
        },
        {
          "output_type": "display_data",
          "data": {
            "image/png": "[encoded data removed]",
            "text/plain": [
              "<Figure size 1152x288 with 2 Axes>"
            ]
          },
          "metadata": {
            "tags": []
          }
        }
      ]
    },
    {
      "cell_type": "markdown",
      "metadata": {
        "id": "YJPsnYLq1dMK",
        "colab_type": "text"
      },
      "source": [
        "The results show that the network training is much more unstable on the boston dataset vs my self-created fake dataset. With a MAE loss function, we see that the \"pathway\" to the local optima isn't as smooth a descend as the trend lines on the fake dataset. That being said, upon finding the local optima, the lines smooth out and there isn't any identifiable jitter.\n",
        "\n",
        "However, with a MSE loss function, the neural network appears to be stuck at the wrong local optima and is unable to take any gradient descent steps to decrease the loss any further.\n",
        "\n",
        "This is probably because the boston dataset has a more complex underlying function with 10+ features while my dataset only had 5 feature variables. "
      ]
    },
    {
      "cell_type": "markdown",
      "metadata": {
        "id": "oMqPZCjFvHji",
        "colab_type": "text"
      },
      "source": [
        "# Summary\n",
        "\n",
        "While my neural network class displays a decreasing loss trend on my fake dataset, it has a very unstable loss trend on the boston housing dataset (even post-scaling). As stated above, this is probably because the Boston dataset has a more complex underlying function vs the fake dataset I created. My neural network is very simple - it lacks a bias term which could help to map a displacement in the function, it lacks regularization methods such as momentum and weight decay (which could help to stabilize convergence to the optima and by extension, the decrease in loss), and I only implemented one hidden layer in each example.\n"
      ]
    },
    {
      "cell_type": "markdown",
      "metadata": {
        "id": "Q6MK0unN4d8Z",
        "colab_type": "text"
      },
      "source": [
        "# References\n",
        "\n"
      ]
    },
    {
      "cell_type": "markdown",
      "metadata": {
        "id": "Df_yhUkIjVcj",
        "colab_type": "text"
      },
      "source": [
        "Brilliant.org (2019). Feedforward Neural Networks. Retrieved October 14, 2019, from https://brilliant.org/wiki/feedforward-neural-networks/\n",
        "\n",
        "Google Developers. (2019). Backpropagation Demo. Retrieved October 14, 2019, from https://google-developers.appspot.com/machine-learning/crash-course/backprop-scroll/.\n",
        "\n",
        "Karpathy, A. (2016). Cs231n convolutional neural networks for visual recognition. Neural networks, 1. Retrieved October 14, 2019, from http://cs231n.github.io/neural-networks-1/.\n",
        "\n",
        "Olah, C., Mordvintsev, A., & Schubert, L. (2017). Feature visualization. Distill, 2(11), e7.\n",
        "\n",
        "Ruder, S. (2018, November 29). An overview of gradient descent optimization algorithms. Retrieved October 14, 2019, from http://ruder.io/optimizing-gradient-descent/index.html#stochasticgradientdescent.\n",
        "\n",
        "Scikit-learn. (2019). Boston House Prices Dataset. Retrieved October 19, 2019, from https://scikit-learn.org/stable/datasets/index.html#boston-house-prices-dataset."
      ]
    }
  ]
}