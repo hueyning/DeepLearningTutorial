{
  "nbformat": 4,
  "nbformat_minor": 0,
  "metadata": {
    "colab": {
      "name": "DL-Assignment-1.ipynb",
      "provenance": [],
      "collapsed_sections": [],
      "include_colab_link": true
    },
    "kernelspec": {
      "name": "python3",
      "display_name": "Python 3"
    },
    "accelerator": "GPU"
  },
  "cells": [
    {
      "cell_type": "markdown",
      "metadata": {
        "id": "view-in-github",
        "colab_type": "text"
      },
      "source": [
        "<a href=\"https://colab.research.google.com/github/hueyning/DeepLearningTutorial/blob/master/DL_Assignment_1.ipynb\" target=\"_parent\"><img src=\"https://colab.research.google.com/assets/colab-badge.svg\" alt=\"Open In Colab\"/></a>"
      ]
    },
    {
      "cell_type": "markdown",
      "metadata": {
        "id": "99tajFIugzJY",
        "colab_type": "text"
      },
      "source": [
        "To do:\n",
        "* clean up nn class\n",
        "* finish backprop concept breakdown\n",
        "* compare relu vs sigmoid? Compare learning rates?\n",
        "* Weight decay?"
      ]
    },
    {
      "cell_type": "markdown",
      "metadata": {
        "id": "rmEfqylTgk1h",
        "colab_type": "text"
      },
      "source": [
        "# Deep Learning Assignment 1: Neural Network Fundamentals\n",
        "\n",
        "\n",
        "\n"
      ]
    },
    {
      "cell_type": "markdown",
      "metadata": {
        "id": "4-ajeP7zzpkR",
        "colab_type": "text"
      },
      "source": [
        "In this assignment, we will implement a neural network from scratch either in Numpy or in PyTorch but without using any of PyTorch’s implementations for layers, optimizers, loss functions, callbacks etc - all significant logic relating to the neural network should be written by the student. We are only allowed to use PyTorch for Numpy-like GPU-accelerated tensor manipulation, dataset-related data structures, and optionally gradient calculations (autograd).\n",
        "\n",
        "### Requirements:\n",
        "\n",
        "Implement a fully-connected (feed-forward) neural network from scratch in your library of choice. The NN must include at least dense layers, activations, and sigmoid/softmax in case of classification. You must also write your own optimizer and loss function (for example, stochastic gradient descent and binary cross-entropy for binary classification). You may use PyTorch’s built-in gradient calculator (autograd) or you may write one yourself.\n",
        "\n",
        "Finally, include runtime and results on a public dataset (MNIST? CIFAR10?).\n",
        "\n",
        "Please document your code and write a brief summary which includes any interesting technical details and your results.\n",
        "\n",
        "### Extensions:\n",
        "\n",
        "Implement one or more of the following, and include a comparison of the model’s performance with/without each component:\n",
        "\n",
        "* Manually calculate the gradients of each layer, and perform back propagation manually.\n",
        "* More than 1 activation function - sigmoid, tanh, relu etc.\n",
        "* More than 1 optimizer - SGD, Momentum, RMSProp, Adam etc.\n",
        "* Regularization - L2/weight decay, dropout, possibly augmentations if image data etc.\n",
        "\n",
        "\n",
        "### Submission:\n",
        "\n",
        "Please put all your code, results, and discussion in a jupyter notebook, and submit a pdf of the notebook for ease of grading. You may also make a secondary submission of the notebook (*.ipynb) or the code (*.py), but this is optional and might not be looked at."
      ]
    },
    {
      "cell_type": "markdown",
      "metadata": {
        "id": "GmJQwIVonwkK",
        "colab_type": "text"
      },
      "source": [
        "# Assignment Layout\n",
        "\n",
        "The assignment will consist of two main parts:\n",
        "\n",
        "1. Conceptual breakdown of the fundamentals of neural network architecture and the training process. This will allow me to grasp the fundamentals needed to code a neural network from scratch.\n",
        "\n",
        "2. Coding of the neural network using Pytorch.\n",
        "\n",
        "\n",
        "\n",
        " "
      ]
    },
    {
      "cell_type": "markdown",
      "metadata": {
        "id": "JmHLpP2cePJv",
        "colab_type": "text"
      },
      "source": [
        "# Conceptual Breakdown\n",
        "\n",
        "The steps for training a neural network can be broken down as follows:"
      ]
    },
    {
      "cell_type": "markdown",
      "metadata": {
        "id": "asyemiIJzmlj",
        "colab_type": "text"
      },
      "source": [
        "## 1. Initialize the network parameters.\n",
        "\n",
        "### 1.1 Fixed Parameters\n",
        "\n",
        "The fixed parameters are the number of neurons in each layer, aka the layer size. These are usually defined by the user and determined as according to our dataset needs. \n",
        "\n",
        "#### 1.1.1 Input size and hidden layer size\n",
        "\n",
        "The number of neurons in the input layer and hidden layer(s) can be defined arbitrarily or according to common best practices. Increasing the number of neurons (and number of layers) can increase the model capacity, i.e. the space of representable functions, which allows the modelling of more complex relations, but also makes the model prone to overfitting (Kaparthy, 2019). It is a general rule of thumb that the number of learnable parameters should not exceed the number of data points. That being said, Kaparthy argues that neural networks that are overfitting can and should be adjusted using regularization methods vs reducing the neuron count (2019).\n",
        "\n",
        "Given the layer size(s) $s$, we can calculate the number of learnable parameters, $p$, from a fully-connected network with $N$ number of layers as follows:\n",
        "\n",
        "$p_{\\text{weights}} = \\sum_{i=0}^{N}{s_{i}\\cdot s_{i+1}}$\n",
        "\n",
        "$p_{\\text{bias}} = \\sum_{i=1}^{N}{s_i}$\n",
        "\n",
        "$p = p_{\\text{weights}} + p_{\\text{bias}}$\n",
        "\n",
        "In the equations above, $i=0$ denotes the input layer and $i=N$ denotes the output layer.\n",
        "\n",
        "#### 1.1.2 Output size\n",
        "\n",
        "In cases of binary classification or regression, the final output size should be one. In multilabel classification, the final output size should correspond to the number of classes.\n",
        "\n",
        "### 1.2 Learnable Parameters\n",
        "\n",
        "While fixed parameters are only initialized once when defining the network, learnable parameters are continuously updated throughout the training process to minimize training loss and adjust the model's predicted outputs to be closer to the actual output.\n",
        "\n",
        "The learnable parameters consist of the model weights and biases, and are usually randomly initialized.\n",
        "\n",
        "#### 1.2.1 Weights\n",
        "\n",
        "The weights determine the relationship between the neurons in a given layer to the neurons in the layer before and after it. The heavier the weight, the stronger the interneuron connection, and the stronger the implication that the neuron significantly affects our model's prediction ability. This is mostly relevant in regards to the input layer where the neurons may represent clear features of a given dataset. Neurons in the hidden layers are often less interpretable since they have undergone multiple transformations, though there have been relatively successful attempts at visualizing hidden layer features as shown in Olah, Mordvintsev, and Schubert (2017).\n",
        "\n",
        "#### 1.2.2 Bias\n",
        "\n",
        "The bias term allows us to adjust the displacement of the output functions of any given layer to achieve a better fit that reduces loss, i.e. the difference between predicted $\\hat{y}$ and actual $y$."
      ]
    },
    {
      "cell_type": "markdown",
      "metadata": {
        "id": "3Ipy6nnwze-3",
        "colab_type": "text"
      },
      "source": [
        "## 2. Perform a feed-forward pass to compute the predicted output.\n",
        "\n",
        "According to Karpathy (2019), \"[t]he forward pass of a fully-connected layer corresponds to one matrix multiplication followed by a bias offset and an activation function\". The forward pass allows us to use the parameters that we have been training to predict an output based on our input. The steps are as follows:\n",
        "\n",
        "For each layer in the network:\n",
        "\n",
        "### 2.1 Multiply the layer inputs by their corresponding weights and add the bias offset.\n",
        "\n",
        "Given a layer with weights $\\vec{w}$, inputs $\\vec{x}$, and bias term $b$, the output (before activation) can be calculated as follows:\n",
        "\n",
        "$o = \\vec{w} \\cdot \\vec{x} + b$\n",
        "\n",
        "\n",
        "### 2.2 Apply an activation function.\n",
        "\n",
        "Since the output is linear, we need to apply an activation function to model non-linearity within our layer outputs. Given an activation function $g(x)$, our output can then be written as:\n",
        "\n",
        "$o = g(\\vec{w} \\cdot \\vec{x} + b)$\n",
        "\n",
        "Example activation functions include the sigmoid, softmax, rectified linear units (ReLU), etc."
      ]
    },
    {
      "cell_type": "markdown",
      "metadata": {
        "id": "FyEBGbncGXGa",
        "colab_type": "text"
      },
      "source": [
        "## 3. Compute the loss.\n",
        "\n",
        "The loss is defined as the difference between the predicted output $\\hat{y}$ and the actual output $y$ for an input $\\vec{x}$. The loss is calculated using the loss function, which can take on different forms as called for by the given problem.\n",
        "\n",
        "\n",
        "For regression problems, we typically use the mean squared error (MSE) as a loss function. For classification problems, we typically use cross-entropy loss (also called log loss)."
      ]
    },
    {
      "cell_type": "markdown",
      "metadata": {
        "id": "hfl5EOrROvkn",
        "colab_type": "text"
      },
      "source": [
        "## 4. Update parameters using gradient descent and backpropagation.\n",
        "\n",
        "Given a MSE loss function $L(X) = \\frac{1}{n}\\sum_{i=1}^{n}{(\\hat{y_i} - y_i)^2}$, where $X$ denotes a set of input-output pairs $X=\\{(\\vec{x_1},y_1),...,(\\vec{x_n},y_n)\\}$, $\\hat{y}$ denotes the predicted output, and ${y}$ denotes the actual output, we see that when $\\hat{y} = y$, $L(X) = 0$. As such, a natural objective is to minimize the loss function to achieve more accurate output. This can be done by adjusting the parameters that will affect the output, as shown in section 2.2. \n",
        "\n",
        "### 4.1 Minimizing loss and updating parameters using gradient descent.\n",
        "Since we are trying to minimize the loss, this is an optimization problem that can be solved using gradient descent. We typically use stochastic gradient descent (SGD) whereby a parameter update is performed for each training example $x_i$ and training label $y_i$ (Ruder, 2018). Each iteration of gradient descent would be carried out as follows:\n",
        "\n",
        "$\\theta_{t+1} = \\theta_t - \\alpha \\cdot \\nabla_\\theta L( \\theta; x^{(i)}; y^{(i)})$\n",
        "\n",
        "where $\\alpha$ represents the learning rate (usually user-defined and should follow industry best practices) and $\\nabla_\\theta L( \\theta; x^{(i)}; y^{(i)})$ represents the gradient of the loss function w.r.t the parameters.\n",
        "\n",
        "As seen from the update equation, each gradient descent step will update our parameters in the direction that decreases loss. If the loss term $(\\alpha \\cdot \\nabla_\\theta L( \\theta; x^{(i)}; y^{(i)})$ is positive, then the parameter values are decreased, i.e. we want to decrease the significance of this parameter since it is increasing loss. If the loss term is negative, then the parameter values are increased, i.e. we want to increase the significance of this parameter since it is decreasing loss. \n",
        "\n",
        "Through gradient descent, we iteratively update our parameters to achieve a local optima where loss is minimized.\n",
        "\n",
        "### 4.2 Calculating loss function gradient w.r.t. the parameters using backpropagation.\n",
        "\n",
        "The backpropagation algorithm uses the chain rule to calculate the gradient of the loss function w.r.t. to the parameters, i.e. the weights and biases. \n",
        "\n",
        "(Google Developers, 2019)\n",
        "\n"
      ]
    },
    {
      "cell_type": "markdown",
      "metadata": {
        "id": "mHLLuY1YebdZ",
        "colab_type": "text"
      },
      "source": [
        "# Coding the Neural Network"
      ]
    },
    {
      "cell_type": "code",
      "metadata": {
        "id": "5-FiFE3agnR1",
        "colab_type": "code",
        "colab": {}
      },
      "source": [
        "# import libraries\n",
        "import torch\n",
        "import torch.nn as nn\n",
        "import torchvision\n",
        "import torchvision.transforms as transforms\n",
        "import matplotlib.pyplot as plt\n",
        "import numpy as np\n",
        "import seaborn as sns\n",
        "sns.set()"
      ],
      "execution_count": 0,
      "outputs": []
    },
    {
      "cell_type": "markdown",
      "metadata": {
        "id": "Q_DHg1EtR8Na",
        "colab_type": "text"
      },
      "source": [
        "## Neural Network Class\n",
        "\n",
        "The neural network class consists of the following components:\n",
        "\n"
      ]
    },
    {
      "cell_type": "code",
      "metadata": {
        "id": "BSiH9H3t-tSW",
        "colab_type": "code",
        "colab": {}
      },
      "source": [
        "# define neural network class\n",
        "\n",
        "class NeuralNetwork:\n",
        "  \n",
        "  def __init__(self, layers, loss_func, activation, alpha = 0.01):\n",
        "    \n",
        "    '''\n",
        "    Basic neural network class that can be trained on a given set of data using the self.train method.\n",
        "    \n",
        "    Inputs:\n",
        "    \n",
        "      layers (ARRAY-type, e.g. tensor, np.array, list)\n",
        "      \n",
        "        - Defines the architecture of the neural network.\n",
        "        - The array should contain sub-arrays that represent the network layers, so that \n",
        "          number of sub-arrays == number of layers in network (including input and output layers).\n",
        "          Ex: [[...],[...],[...]] would represent a network with 3 layers.\n",
        "        - The sub-arrays should each contain 2 numbers, the first representing the number of input neurons\n",
        "          and the second representing the number of output neurons.\n",
        "          Ex: [5,3] would represent a layer with 5 input neurons and 3 output neurons.\n",
        "          The following layer must accordingly have 3 input neurons, e.g. [3, x]\n",
        "        \n",
        "      loss_func (STR)\n",
        "      \n",
        "        - Defines the loss function to be used in the neural network.\n",
        "        - Options: 'MAE', 'MSE'\n",
        "        \n",
        "      activation (STR)\n",
        "      \n",
        "        - Defines the activation function to be used in the neural network.\n",
        "        - Only one type of activation function can be chosen, and this activation function\n",
        "          will be applied to each layer in the network, including the output layer.\n",
        "        - Options: 'sigmoid', 'softmax', 'relu'\n",
        "        \n",
        "      alpha (FLOAT)\n",
        "      \n",
        "        - Defines the learning rate to be used in the optimization method (SGD).\n",
        "        - Default: 0.01\n",
        "        \n",
        "    '''\n",
        "    \n",
        "    self.weight_dct = {} # empty dict to store layer weights\n",
        "    self.output_dct = {} # empty dict to store layer outputs\n",
        "    self.delta_dct = {} # empty dict to store loss gradients\n",
        "    \n",
        "    for l in range(len(layers)):\n",
        "      # randomly initialize layer weights according to input, output neurons designated\n",
        "      self.weight_dct[l] = torch.randn(layers[l,0], layers[l,1]) # TODO: torch.parameters\n",
        "      \n",
        "    self.loss_func = loss_func #type of loss function\n",
        "    self.activation = activation #type of activation function\n",
        "    self.alpha = alpha # learning rate\n",
        "  \n",
        "  \n",
        "  def active_func(self, s, prime=False): \n",
        "    \n",
        "    # REFACTOR: put activation and loss as external input params to the class\n",
        "    \n",
        "    if self.activation == \"sigmoid\": # BINARY # Sigmoid < Relu for activations # Sigmoid < softmax for output cuz only for 2 classes\n",
        "      if prime == True: return s * (1-s)\n",
        "      return 1/(1 + torch.exp(-s))   \n",
        "    \n",
        "    elif self.activation == \"softmax\": # ONLY AT END OF NETWORK - MULTICLASS\n",
        "      if prime == True:\n",
        "        return \n",
        "      e = torch.exp(s)\n",
        "      return e / torch.sum(e, axis=1, keepdims=True)\n",
        "    \n",
        "    elif self.activation == \"relu\": # ACTIVATION FOR EVERY LAYER EXCEPT LAST\n",
        "      if prime == True: return 1. * (s > 0).float()\n",
        "      return s * (s > 0).float()\n",
        "    \n",
        "    \n",
        "  def calculate_loss(self, output, y):\n",
        "    \n",
        "    if self.loss_func == 'MAE':\n",
        "      diff = y - output\n",
        "      return abs(diff)\n",
        "    \n",
        "    elif self.loss_func == 'MSE':\n",
        "      diff = y - output\n",
        "      return diff**2\n",
        "    \n",
        "    elif self.loss_func == 'CCE':\n",
        "      CCE_loss = nn.CrossEntropyLoss()\n",
        "      return CCE_loss(output, y)\n",
        "    \n",
        "    \n",
        "  def categorical_cross_entropy(self, y_pred, y_true):\n",
        "    \n",
        "    # probability vector for ground truth \"0 0 0 1 0 0 0 0\" # one-hot encode labels\n",
        "    # probability vector for predictions # softmax output layer\n",
        "    \n",
        "    y_pred = torch.clamp(y_pred, 1e-9, 1 - 1e-9)\n",
        "    y_true = y_true.float()\n",
        "    #y_pred = y_pred.gather(1, y_true.view(-1,1))\n",
        "    result = -(y_true * torch.t(torch.log(y_pred))).sum(dim=1)\n",
        "    return result\n",
        "    \n",
        "    \n",
        "  def forward(self, x):\n",
        "    \n",
        "    # TODO: Change dictionary keys to array since my code is so sequential (for loops to matmul)\n",
        "    # TODO: Bias\n",
        "    \n",
        "    output = 0 # initialize output value as 0\n",
        "    \n",
        "    for i in range(len(self.weight_dct)): # loop through each layer in the network\n",
        "\n",
        "      output = torch.matmul(x, self.weight_dct[i]) # multiply the layer input by its weights\n",
        "      output = self.active_func(output) # activation function\n",
        "      self.output_dct[i] = output # add output to the output dict\n",
        "      x = output # pass the output as the input to the next layer\n",
        "      \n",
        "      # TODO: Remove activation function for final output\n",
        "\n",
        "    return output # return output as series of numbers\n",
        "  \n",
        "  \n",
        "  def backward(self, x, y, output):\n",
        "    \n",
        "    \n",
        "    output_err = self.calculate_loss(output, y)\n",
        "    output_delta = output_err * self.active_func(output, prime=True)\n",
        "    \n",
        "    for i in reversed(range(1, len(self.weight_dct))):\n",
        "      \n",
        "      error = torch.matmul(output_delta, torch.t(self.weight_dct[i]))\n",
        "      delta = error * self.active_func(self.output_dct[i], prime=True)\n",
        "    \n",
        "      self.delta_dct[i] = delta\n",
        "       \n",
        "  \n",
        "  def optimize(self, x):\n",
        "    \n",
        "    inpt = x\n",
        "    \n",
        "    for i in range(len(self.weight_dct)-1):  \n",
        "      \n",
        "      loss_gradient = torch.matmul(torch.t(inpt), self.delta_dct[i+1])\n",
        "      self.weight_dct[i] -= self.alpha * loss_gradient \n",
        "      \n",
        "      # the input for the next layer, i + 1, will be the output from the layer before it, i\n",
        "      inpt = self.output_dct[i] \n",
        "      \n",
        "      \n",
        "  def train(self, x, y):\n",
        "    \n",
        "    # forward pass\n",
        "    o = self.forward(x)\n",
        "    # backward pass\n",
        "    self.backward(x, y, o)\n",
        "    # optimize\n",
        "    self.optimize(x)\n",
        "    "
      ],
      "execution_count": 0,
      "outputs": []
    },
    {
      "cell_type": "markdown",
      "metadata": {
        "id": "4fYKrQvqR57M",
        "colab_type": "text"
      },
      "source": [
        "## Neural Network Test: Fake Data"
      ]
    },
    {
      "cell_type": "markdown",
      "metadata": {
        "id": "J34Bo77uSWqy",
        "colab_type": "text"
      },
      "source": [
        "### Create the Fake Data"
      ]
    },
    {
      "cell_type": "code",
      "metadata": {
        "id": "UcQPPkdn6Xki",
        "colab_type": "code",
        "outputId": "daf1f603-d6e0-4811-f48a-773afa679452",
        "colab": {
          "base_uri": "https://localhost:8080/",
          "height": 34
        }
      },
      "source": [
        "np.random.seed(2)\n",
        "\n",
        "def f(x):\n",
        "  '''\n",
        "  '''\n",
        "  return torch.mean(x, dim=1)**2 + torch.mean(x, dim=1) + np.random.normal(0, 0.05)\n",
        "\n",
        "# train set\n",
        "X_train = torch.randn(100, 5) \n",
        "y_train = f(X_train).reshape(-1, 1)\n",
        "\n",
        "# test set\n",
        "X_test = torch.randn(30, 5) \n",
        "y_test = f(X_test).reshape(-1, 1)\n",
        "\n",
        "print(X_train.shape, X_test.shape, y_train.shape, y_test.shape)"
      ],
      "execution_count": 0,
      "outputs": [
        {
          "output_type": "stream",
          "text": [
            "torch.Size([100, 5]) torch.Size([30, 5]) torch.Size([100, 1]) torch.Size([30, 1])\n"
          ],
          "name": "stdout"
        }
      ]
    },
    {
      "cell_type": "markdown",
      "metadata": {
        "id": "JP1ptivlSYcG",
        "colab_type": "text"
      },
      "source": [
        "### Run the Neural Network"
      ]
    },
    {
      "cell_type": "code",
      "metadata": {
        "id": "uH5arJ8U4Uew",
        "colab_type": "code",
        "outputId": "606c6544-10d0-46f3-e95c-d992986f7212",
        "colab": {
          "base_uri": "https://localhost:8080/",
          "height": 784
        }
      },
      "source": [
        "def run_nn(NN, X_train, y_train, X_test, y_test):\n",
        "  # keep track of train and test loss\n",
        "  running_train_loss = []\n",
        "  running_test_loss = []\n",
        "\n",
        "  for i in range(1000):\n",
        "\n",
        "    # train network\n",
        "    NN.train(X_train, y_train)\n",
        "    train_loss = torch.mean(NN.calculate_loss(NN.forward(X_train), y_train))\n",
        "    running_train_loss.append(train_loss)\n",
        "\n",
        "    # test network\n",
        "    test_loss = torch.mean(NN.calculate_loss(NN.forward(X_test), y_test))\n",
        "    running_test_loss.append(test_loss)\n",
        "\n",
        "    if i % 100 == 0:\n",
        "      print(f\"Epoch {i}\")\n",
        "      print (\"Train Loss: \" + str(train_loss)) \n",
        "      print (\"Test Loss: \" + str(test_loss)) \n",
        "\n",
        "  plt.plot(np.linspace(0,100,1000), running_train_loss, label='train_loss')\n",
        "  plt.plot(np.linspace(0,100,1000), running_test_loss, label='test_loss')\n",
        "  plt.legend()\n",
        "  \n",
        "# define layer sizes\n",
        "input_s = X_train.size()[1]\n",
        "hidden_s = 10\n",
        "output_s = 1\n",
        "\n",
        "# initialize network\n",
        "NN = NeuralNetwork(layers = torch.tensor([[input_s, hidden_s],[hidden_s, output_s]]),\n",
        "                   loss_func = 'MSE',\n",
        "                   activation = 'sigmoid',\n",
        "                   alpha = 0.001)\n",
        "\n",
        "\n",
        "run_nn(NN, X_train, y_train, X_test, y_test)"
      ],
      "execution_count": 0,
      "outputs": [
        {
          "output_type": "stream",
          "text": [
            "Epoch 0\n",
            "Train Loss: tensor(0.6435)\n",
            "Test Loss: tensor(0.6395)\n",
            "Epoch 100\n",
            "Train Loss: tensor(0.6230)\n",
            "Test Loss: tensor(0.6264)\n",
            "Epoch 200\n",
            "Train Loss: tensor(0.6028)\n",
            "Test Loss: tensor(0.6134)\n",
            "Epoch 300\n",
            "Train Loss: tensor(0.5838)\n",
            "Test Loss: tensor(0.6011)\n",
            "Epoch 400\n",
            "Train Loss: tensor(0.5666)\n",
            "Test Loss: tensor(0.5897)\n",
            "Epoch 500\n",
            "Train Loss: tensor(0.5513)\n",
            "Test Loss: tensor(0.5795)\n",
            "Epoch 600\n",
            "Train Loss: tensor(0.5379)\n",
            "Test Loss: tensor(0.5706)\n",
            "Epoch 700\n",
            "Train Loss: tensor(0.5262)\n",
            "Test Loss: tensor(0.5628)\n",
            "Epoch 800\n",
            "Train Loss: tensor(0.5159)\n",
            "Test Loss: tensor(0.5560)\n",
            "Epoch 900\n",
            "Train Loss: tensor(0.5069)\n",
            "Test Loss: tensor(0.5501)\n"
          ],
          "name": "stdout"
        },
        {
          "output_type": "display_data",
          "data": {
            "image/png": "[encoded data removed]",
            "text/plain": [
              "<Figure size 432x288 with 1 Axes>"
            ]
          },
          "metadata": {
            "tags": []
          }
        }
      ]
    },
    {
      "cell_type": "markdown",
      "metadata": {
        "id": "KtXc2a5PNeL_",
        "colab_type": "text"
      },
      "source": [
        "## Neural Network Test: Public Dataset"
      ]
    },
    {
      "cell_type": "markdown",
      "metadata": {
        "id": "PayXYaNvSb9F",
        "colab_type": "text"
      },
      "source": [
        "### Import Boston Housing Prices Dataset"
      ]
    },
    {
      "cell_type": "code",
      "metadata": {
        "id": "Xz6gos7kNdv-",
        "colab_type": "code",
        "outputId": "38d8d098-15a4-4ae7-f852-7890b6689a2f",
        "colab": {
          "base_uri": "https://localhost:8080/",
          "height": 51
        }
      },
      "source": [
        "# load data\n",
        "from sklearn.datasets import load_boston\n",
        "boston = load_boston()\n",
        "print(boston.data.shape)\n",
        "print(boston.target.shape)"
      ],
      "execution_count": 42,
      "outputs": [
        {
          "output_type": "stream",
          "text": [
            "(506, 13)\n",
            "(506,)\n"
          ],
          "name": "stdout"
        }
      ]
    },
    {
      "cell_type": "markdown",
      "metadata": {
        "id": "T_Xc62ZXSkE6",
        "colab_type": "text"
      },
      "source": [
        "### Transform and Preprocess Data"
      ]
    },
    {
      "cell_type": "code",
      "metadata": {
        "id": "1c2wvjggPkCj",
        "colab_type": "code",
        "outputId": "6325fb62-aa51-4d4f-841c-68145f011531",
        "colab": {
          "base_uri": "https://localhost:8080/",
          "height": 34
        }
      },
      "source": [
        "# scale data\n",
        "from sklearn.preprocessing import StandardScaler\n",
        "scaler = StandardScaler()\n",
        "X = scaler.fit_transform(boston.data)\n",
        "y = scaler.fit_transform(boston.target.reshape(-1, 1))\n",
        "\n",
        "# split data into train and test\n",
        "from sklearn.model_selection import train_test_split\n",
        "X_train, X_test, y_train, y_test = train_test_split(X, y, test_size=0.33, random_state=42)\n",
        "\n",
        "print(X_train.shape, X_test.shape, y_train.shape, y_test.shape)"
      ],
      "execution_count": 43,
      "outputs": [
        {
          "output_type": "stream",
          "text": [
            "(339, 13) (167, 13) (339, 1) (167, 1)\n"
          ],
          "name": "stdout"
        }
      ]
    },
    {
      "cell_type": "code",
      "metadata": {
        "id": "53vfjo8gObIR",
        "colab_type": "code",
        "outputId": "28d06df2-c219-40b7-ab80-8fcf0a6df3e8",
        "colab": {
          "base_uri": "https://localhost:8080/",
          "height": 88
        }
      },
      "source": [
        "# transform data into tensor with dtype = Float\n",
        "def transform_to_tensor(data):\n",
        "  return torch.tensor(data, dtype=torch.float)\n",
        "\n",
        "X_train = transform_to_tensor(X_train)\n",
        "X_test = transform_to_tensor(X_test)\n",
        "y_train = transform_to_tensor(y_train)\n",
        "y_test = transform_to_tensor(y_test)\n",
        "\n",
        "print(X_train.shape, X_test.shape, y_train.shape, y_test.shape)"
      ],
      "execution_count": 45,
      "outputs": [
        {
          "output_type": "stream",
          "text": [
            "torch.Size([339, 13]) torch.Size([167, 13]) torch.Size([339, 1]) torch.Size([167, 1])\n"
          ],
          "name": "stdout"
        },
        {
          "output_type": "stream",
          "text": [
            "/usr/local/lib/python3.6/dist-packages/ipykernel_launcher.py:2: UserWarning: To copy construct from a tensor, it is recommended to use sourceTensor.clone().detach() or sourceTensor.clone().detach().requires_grad_(True), rather than torch.tensor(sourceTensor).\n",
            "  \n"
          ],
          "name": "stderr"
        }
      ]
    },
    {
      "cell_type": "markdown",
      "metadata": {
        "id": "tMzIBuRPSrxW",
        "colab_type": "text"
      },
      "source": [
        "### Run the Neural Network"
      ]
    },
    {
      "cell_type": "code",
      "metadata": {
        "id": "xldbKVAQOIwb",
        "colab_type": "code",
        "outputId": "0feef18d-c5c8-4302-eb90-ef198d720489",
        "colab": {
          "base_uri": "https://localhost:8080/",
          "height": 784
        }
      },
      "source": [
        "# define layer sizes\n",
        "input_s = X_train.shape[1]\n",
        "hidden_s = 50\n",
        "output_s = 1\n",
        "\n",
        "# initialize network\n",
        "NN = NeuralNetwork(layers = torch.tensor([[input_s, hidden_s],[hidden_s, output_s]]),\n",
        "                   loss_func = 'MSE',\n",
        "                   activation = 'sigmoid',\n",
        "                   alpha = 0.001)\n",
        "\n",
        "\n",
        "run_nn(NN, X_train, y_train, X_test, y_test)"
      ],
      "execution_count": 51,
      "outputs": [
        {
          "output_type": "stream",
          "text": [
            "Epoch 0\n",
            "Train Loss: tensor(1.0393)\n",
            "Test Loss: tensor(0.9039)\n",
            "Epoch 100\n",
            "Train Loss: tensor(1.0417)\n",
            "Test Loss: tensor(0.9048)\n",
            "Epoch 200\n",
            "Train Loss: tensor(1.0428)\n",
            "Test Loss: tensor(0.9052)\n",
            "Epoch 300\n",
            "Train Loss: tensor(1.0434)\n",
            "Test Loss: tensor(0.9054)\n",
            "Epoch 400\n",
            "Train Loss: tensor(1.0439)\n",
            "Test Loss: tensor(0.9056)\n",
            "Epoch 500\n",
            "Train Loss: tensor(1.0442)\n",
            "Test Loss: tensor(0.9057)\n",
            "Epoch 600\n",
            "Train Loss: tensor(1.0445)\n",
            "Test Loss: tensor(0.9058)\n",
            "Epoch 700\n",
            "Train Loss: tensor(1.0447)\n",
            "Test Loss: tensor(0.9059)\n",
            "Epoch 800\n",
            "Train Loss: tensor(1.0449)\n",
            "Test Loss: tensor(0.9060)\n",
            "Epoch 900\n",
            "Train Loss: tensor(1.0450)\n",
            "Test Loss: tensor(0.9060)\n"
          ],
          "name": "stdout"
        },
        {
          "output_type": "display_data",
          "data": {
            "image/png": "[encoded data removed]",
            "text/plain": [
              "<Figure size 432x288 with 1 Axes>"
            ]
          },
          "metadata": {
            "tags": []
          }
        }
      ]
    },
    {
      "cell_type": "code",
      "metadata": {
        "id": "eFNU5s2t5--6",
        "colab_type": "code",
        "colab": {}
      },
      "source": [
        "# invert scaling for loss (what does 1.2 mean?)"
      ],
      "execution_count": 0,
      "outputs": []
    },
    {
      "cell_type": "markdown",
      "metadata": {
        "id": "Id-Bba8dQaNI",
        "colab_type": "text"
      },
      "source": [
        "# MNIST"
      ]
    },
    {
      "cell_type": "code",
      "metadata": {
        "id": "O1x27KZCCyuJ",
        "colab_type": "code",
        "colab": {}
      },
      "source": [
        "# import and transform data\n",
        "\n",
        "transform = transforms.Compose(\n",
        "    [transforms.ToTensor(),\n",
        "     transforms.Normalize([0.5], [0.5])])\n",
        "\n",
        "trainset = torchvision.datasets.MNIST(root='./data', train=True,\n",
        "                                        download=True, transform=transform)\n",
        "trainloader = torch.utils.data.DataLoader(trainset, batch_size=64,\n",
        "                                          shuffle=True, num_workers=2)\n",
        "\n",
        "testset = torchvision.datasets.MNIST(root='./data', train=False,\n",
        "                                       download=True, transform=transform)\n",
        "testloader = torch.utils.data.DataLoader(testset, batch_size=64,\n",
        "                                         shuffle=False, num_workers=2)"
      ],
      "execution_count": 0,
      "outputs": []
    },
    {
      "cell_type": "code",
      "metadata": {
        "id": "kbglR9jTEs9b",
        "colab_type": "code",
        "outputId": "2d0c59c0-de17-488a-f5f1-25944c97c885",
        "colab": {
          "base_uri": "https://localhost:8080/",
          "height": 645
        }
      },
      "source": [
        "# Get a batch of training data\n",
        "inputs, classes = next(iter(trainloader))\n",
        "\n",
        "# Make a grid from batch\n",
        "out = torchvision.utils.make_grid(inputs, normalize = True)\n",
        "out = out.permute((1,2,0)) # rearrange the tensor axes for PIL imshow\n",
        "\n",
        "plt.figure(figsize=(8,8))\n",
        "plt.imshow(out)\n",
        "plt.axis('off')\n",
        "print(f\"Tensor batch dimensions: {inputs.shape}\")\n",
        "\n",
        "plt.figure(figsize=(15, 3))\n",
        "\n",
        "for i in range(10):\n",
        "  out = transforms.ToPILImage()(inputs[i])\n",
        "  plt.subplot(1,10,i+1)\n",
        "  plt.imshow(out)\n",
        "  plt.title(f\"{classes[i]}\")  \n",
        "  plt.axis('off')\n",
        "\n",
        "plt.show()"
      ],
      "execution_count": 0,
      "outputs": [
        {
          "output_type": "stream",
          "text": [
            "Tensor batch dimensions: torch.Size([64, 1, 28, 28])\n"
          ],
          "name": "stdout"
        },
        {
          "output_type": "display_data",
          "data": {
            "image/png": "[encoded data removed]",
            "text/plain": [
              "<Figure size 576x576 with 1 Axes>"
            ]
          },
          "metadata": {
            "tags": []
          }
        },
        {
          "output_type": "display_data",
          "data": {
            "image/png": "[encoded data removed]",
            "text/plain": [
              "<Figure size 1080x216 with 10 Axes>"
            ]
          },
          "metadata": {
            "tags": []
          }
        }
      ]
    },
    {
      "cell_type": "code",
      "metadata": {
        "id": "mWtmW7bkL-un",
        "colab_type": "code",
        "outputId": "d7a7e595-c108-46d5-b1f5-b74a0fb991cc",
        "colab": {
          "base_uri": "https://localhost:8080/",
          "height": 34
        }
      },
      "source": [
        "inputs.view(inputs.shape[0], -1).size()"
      ],
      "execution_count": 0,
      "outputs": [
        {
          "output_type": "execute_result",
          "data": {
            "text/plain": [
              "torch.Size([64, 784])"
            ]
          },
          "metadata": {
            "tags": []
          },
          "execution_count": 316
        }
      ]
    },
    {
      "cell_type": "markdown",
      "metadata": {
        "id": "Q6MK0unN4d8Z",
        "colab_type": "text"
      },
      "source": [
        "# References\n",
        "\n"
      ]
    },
    {
      "cell_type": "markdown",
      "metadata": {
        "id": "Df_yhUkIjVcj",
        "colab_type": "text"
      },
      "source": [
        "Brilliant.org (2019). Feedforward Neural Networks. Retrieved October 14, 2019, from https://brilliant.org/wiki/feedforward-neural-networks/\n",
        "\n",
        "Google Developers. (2019). Backpropagation Demo. Retrieved October 14, 2019, from https://google-developers.appspot.com/machine-learning/crash-course/backprop-scroll/.\n",
        "\n",
        "Karpathy, A. (2016). Cs231n convolutional neural networks for visual recognition. Neural networks, 1. Retrieved October 14, 2019, from http://cs231n.github.io/neural-networks-1/.\n",
        "\n",
        "Olah, C., Mordvintsev, A., & Schubert, L. (2017). Feature visualization. Distill, 2(11), e7.\n",
        "\n",
        "Ruder, S. (2018, November 29). An overview of gradient descent optimization algorithms. Retrieved October 14, 2019, from http://ruder.io/optimizing-gradient-descent/index.html#stochasticgradientdescent."
      ]
    }
  ]
}